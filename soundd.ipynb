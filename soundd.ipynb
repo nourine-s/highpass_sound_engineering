{
 "cells": [
  {
   "cell_type": "code",
   "execution_count": 3,
   "metadata": {},
   "outputs": [],
   "source": [
    "import pyaudio\n",
    "import wave\n",
    "from pydub import AudioSegment\n",
    "from pydub.playback import play\n",
    "import speech_recognition as sr"
   ]
  },
  {
   "cell_type": "code",
   "execution_count": 4,
   "metadata": {},
   "outputs": [
    {
     "name": "stdout",
     "output_type": "stream",
     "text": [
      "Start Recording\n",
      "Done Recording\n"
     ]
    }
   ],
   "source": [
    "# Parameters\n",
    "frames_per_buffer = 3200 #number of frames per buffers\n",
    "format = pyaudio.paInt16  # Change format to 16-bit \n",
    "channels = 1     #1= mono  2=streo\n",
    "sample_rate = 44100 #sample rate\n",
    "\n",
    "# Initialize PyAudio\n",
    "p = pyaudio.PyAudio()\n",
    "\n",
    "# Open a stream\n",
    "stream = p.open(format=format,\n",
    "                channels=channels,\n",
    "                rate=sample_rate,\n",
    "                input=True,  #3shan y2ra mn el mic \n",
    "                frames_per_buffer=frames_per_buffer)\n",
    "\n",
    "print(\"Start Recording\")\n",
    "frames = []\n",
    "\n",
    "try: # hyfdl y-record  lghyt m a press 3l keybord (ctrl+c)\n",
    "    while True:   \n",
    "        data = stream.read(frames_per_buffer) #read data from the stream continuously \n",
    "        frames.append(data)   #ya5od el data el 2araha mn el stream w y7otha fl array el esmaha el frames\n",
    "except KeyboardInterrupt:\n",
    "    pass\n",
    "    print(\"Done Recording\")\n",
    "\n",
    "# Stop and close the stream\n",
    "stream.stop_stream()\n",
    "stream.close() #close the stream\n",
    "p.terminate() #terminate PyAudio\n"
   ]
  },
  {
   "cell_type": "code",
   "execution_count": 5,
   "metadata": {},
   "outputs": [
    {
     "data": {
      "text/plain": [
       "<_io.BufferedRandom name='filtered_audio.wav'>"
      ]
     },
     "execution_count": 5,
     "metadata": {},
     "output_type": "execute_result"
    }
   ],
   "source": [
    "# Save recorded audio to WAV file\n",
    "recorded_audio = \"output.wav\"\n",
    "output_audio = wave.open(recorded_audio, 'wb') # open wav file in wb binary write  mode\n",
    "output_audio.setnchannels(channels) \n",
    "output_audio.setsampwidth(p.get_sample_size(format))\n",
    "output_audio.setframerate(sample_rate)\n",
    "output_audio.writeframes(b''.join(frames)) #concatenates the recorded frames into a single bytes object\n",
    "output_audio.close() #close wav file\n",
    "\n",
    "# Load the recorded audio using pydub\n",
    "audio = AudioSegment.from_wav(recorded_audio)\n",
    "\n",
    "# Apply high-pass filter\n",
    "cut_off = int(input(\"Enter the cutOff frequency: \"))\n",
    "filtered_audio = audio.high_pass_filter(cut_off) #by3dy el freq el a3la mn el cut_off\n",
    "\n",
    "# Save filtered audio in WAV format\n",
    "filtered_audio.export(\"filtered_audio.wav\", format=\"wav\")"
   ]
  },
  {
   "cell_type": "code",
   "execution_count": 6,
   "metadata": {},
   "outputs": [
    {
     "name": "stdout",
     "output_type": "stream",
     "text": [
      "Playing original audio...\n",
      "Playing filtered audio...\n"
     ]
    }
   ],
   "source": [
    "print(\"Playing original audio...\")\n",
    "play(audio)\n",
    "\n",
    "print(\"Playing filtered audio...\")\n",
    "play(filtered_audio)"
   ]
  },
  {
   "cell_type": "code",
   "execution_count": 7,
   "metadata": {},
   "outputs": [
    {
     "name": "stdout",
     "output_type": "stream",
     "text": [
      "Speech Recognition Result: hello\n"
     ]
    }
   ],
   "source": [
    "# Speech recognition on filtered audio\n",
    "recognizer = sr.Recognizer() #create an instance\n",
    "with sr.AudioFile(\"filtered_audio.wav\") as source: #open el file &close it\n",
    "    audio_data = recognizer.record(source) \n",
    "\n",
    "text = recognizer.recognize_google(audio_data)\n",
    "print(\"Speech Recognition Result:\", text)"
   ]
  }
 ],
 "metadata": {
  "kernelspec": {
   "display_name": "Python 3",
   "language": "python",
   "name": "python3"
  },
  "language_info": {
   "codemirror_mode": {
    "name": "ipython",
    "version": 3
   },
   "file_extension": ".py",
   "mimetype": "text/x-python",
   "name": "python",
   "nbconvert_exporter": "python",
   "pygments_lexer": "ipython3",
   "version": "0.0.0"
  }
 },
 "nbformat": 4,
 "nbformat_minor": 2
}
